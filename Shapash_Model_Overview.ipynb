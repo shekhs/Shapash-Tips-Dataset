{
  "cells": [
    {
      "cell_type": "markdown",
      "metadata": {
        "id": "view-in-github",
        "colab_type": "text"
      },
      "source": [
        "<a href=\"https://colab.research.google.com/github/shekhs/Shapash-Tips-Dataset/blob/main/Shapash_Model_Overview.ipynb\" target=\"_parent\"><img src=\"https://colab.research.google.com/assets/colab-badge.svg\" alt=\"Open In Colab\"/></a>"
      ]
    },
    {
      "cell_type": "markdown",
      "id": "infinite-candidate",
      "metadata": {
        "id": "infinite-candidate"
      },
      "source": [
        "### Shapash Model Overview\n",
        "https://shapash.readthedocs.io/en/latest/\n",
        "\n",
        "##### Here we will:\n",
        "Understand how to create a Shapash SmartPredictor to make prediction and have local explanation in production with a simple use case.\n",
        "\n",
        "This tutorial describes the different steps from training the model to Shapash SmartPredictor deployment. A more detailed tutorial allows you to know more about the SmartPredictor Object.\n",
        "\n",
        "Contents:\n",
        "\n",
        "- Build a Regressor\n",
        "- Compile Shapash SmartExplainer\n",
        "- From Shapash SmartExplainer to SmartPredictor\n",
        "- Save Shapash Smartpredictor Object in pickle file\n",
        "- Make a prediction"
      ]
    },
    {
      "cell_type": "code",
      "execution_count": 1,
      "id": "measured-tournament",
      "metadata": {
        "id": "measured-tournament"
      },
      "outputs": [],
      "source": [
        "import seaborn as sns\n",
        "\n",
        "import warnings\n",
        "warnings.filterwarnings(\"ignore\")"
      ]
    },
    {
      "cell_type": "code",
      "execution_count": 2,
      "id": "inner-nudist",
      "metadata": {
        "id": "inner-nudist"
      },
      "outputs": [],
      "source": [
        "df=sns.load_dataset('tips')"
      ]
    },
    {
      "cell_type": "code",
      "execution_count": 3,
      "id": "exceptional-shadow",
      "metadata": {
        "colab": {
          "base_uri": "https://localhost:8080/",
          "height": 206
        },
        "id": "exceptional-shadow",
        "outputId": "9823c516-f78a-4064-8c58-cfec3168187b"
      },
      "outputs": [
        {
          "output_type": "execute_result",
          "data": {
            "text/plain": [
              "   total_bill   tip     sex smoker  day    time  size\n",
              "0       16.99  1.01  Female     No  Sun  Dinner     2\n",
              "1       10.34  1.66    Male     No  Sun  Dinner     3\n",
              "2       21.01  3.50    Male     No  Sun  Dinner     3\n",
              "3       23.68  3.31    Male     No  Sun  Dinner     2\n",
              "4       24.59  3.61  Female     No  Sun  Dinner     4"
            ],
            "text/html": [
              "\n",
              "  <div id=\"df-475fb1cc-3b37-4fd8-94db-ca4bcbe6d9cc\">\n",
              "    <div class=\"colab-df-container\">\n",
              "      <div>\n",
              "<style scoped>\n",
              "    .dataframe tbody tr th:only-of-type {\n",
              "        vertical-align: middle;\n",
              "    }\n",
              "\n",
              "    .dataframe tbody tr th {\n",
              "        vertical-align: top;\n",
              "    }\n",
              "\n",
              "    .dataframe thead th {\n",
              "        text-align: right;\n",
              "    }\n",
              "</style>\n",
              "<table border=\"1\" class=\"dataframe\">\n",
              "  <thead>\n",
              "    <tr style=\"text-align: right;\">\n",
              "      <th></th>\n",
              "      <th>total_bill</th>\n",
              "      <th>tip</th>\n",
              "      <th>sex</th>\n",
              "      <th>smoker</th>\n",
              "      <th>day</th>\n",
              "      <th>time</th>\n",
              "      <th>size</th>\n",
              "    </tr>\n",
              "  </thead>\n",
              "  <tbody>\n",
              "    <tr>\n",
              "      <th>0</th>\n",
              "      <td>16.99</td>\n",
              "      <td>1.01</td>\n",
              "      <td>Female</td>\n",
              "      <td>No</td>\n",
              "      <td>Sun</td>\n",
              "      <td>Dinner</td>\n",
              "      <td>2</td>\n",
              "    </tr>\n",
              "    <tr>\n",
              "      <th>1</th>\n",
              "      <td>10.34</td>\n",
              "      <td>1.66</td>\n",
              "      <td>Male</td>\n",
              "      <td>No</td>\n",
              "      <td>Sun</td>\n",
              "      <td>Dinner</td>\n",
              "      <td>3</td>\n",
              "    </tr>\n",
              "    <tr>\n",
              "      <th>2</th>\n",
              "      <td>21.01</td>\n",
              "      <td>3.50</td>\n",
              "      <td>Male</td>\n",
              "      <td>No</td>\n",
              "      <td>Sun</td>\n",
              "      <td>Dinner</td>\n",
              "      <td>3</td>\n",
              "    </tr>\n",
              "    <tr>\n",
              "      <th>3</th>\n",
              "      <td>23.68</td>\n",
              "      <td>3.31</td>\n",
              "      <td>Male</td>\n",
              "      <td>No</td>\n",
              "      <td>Sun</td>\n",
              "      <td>Dinner</td>\n",
              "      <td>2</td>\n",
              "    </tr>\n",
              "    <tr>\n",
              "      <th>4</th>\n",
              "      <td>24.59</td>\n",
              "      <td>3.61</td>\n",
              "      <td>Female</td>\n",
              "      <td>No</td>\n",
              "      <td>Sun</td>\n",
              "      <td>Dinner</td>\n",
              "      <td>4</td>\n",
              "    </tr>\n",
              "  </tbody>\n",
              "</table>\n",
              "</div>\n",
              "      <button class=\"colab-df-convert\" onclick=\"convertToInteractive('df-475fb1cc-3b37-4fd8-94db-ca4bcbe6d9cc')\"\n",
              "              title=\"Convert this dataframe to an interactive table.\"\n",
              "              style=\"display:none;\">\n",
              "        \n",
              "  <svg xmlns=\"http://www.w3.org/2000/svg\" height=\"24px\"viewBox=\"0 0 24 24\"\n",
              "       width=\"24px\">\n",
              "    <path d=\"M0 0h24v24H0V0z\" fill=\"none\"/>\n",
              "    <path d=\"M18.56 5.44l.94 2.06.94-2.06 2.06-.94-2.06-.94-.94-2.06-.94 2.06-2.06.94zm-11 1L8.5 8.5l.94-2.06 2.06-.94-2.06-.94L8.5 2.5l-.94 2.06-2.06.94zm10 10l.94 2.06.94-2.06 2.06-.94-2.06-.94-.94-2.06-.94 2.06-2.06.94z\"/><path d=\"M17.41 7.96l-1.37-1.37c-.4-.4-.92-.59-1.43-.59-.52 0-1.04.2-1.43.59L10.3 9.45l-7.72 7.72c-.78.78-.78 2.05 0 2.83L4 21.41c.39.39.9.59 1.41.59.51 0 1.02-.2 1.41-.59l7.78-7.78 2.81-2.81c.8-.78.8-2.07 0-2.86zM5.41 20L4 18.59l7.72-7.72 1.47 1.35L5.41 20z\"/>\n",
              "  </svg>\n",
              "      </button>\n",
              "      \n",
              "  <style>\n",
              "    .colab-df-container {\n",
              "      display:flex;\n",
              "      flex-wrap:wrap;\n",
              "      gap: 12px;\n",
              "    }\n",
              "\n",
              "    .colab-df-convert {\n",
              "      background-color: #E8F0FE;\n",
              "      border: none;\n",
              "      border-radius: 50%;\n",
              "      cursor: pointer;\n",
              "      display: none;\n",
              "      fill: #1967D2;\n",
              "      height: 32px;\n",
              "      padding: 0 0 0 0;\n",
              "      width: 32px;\n",
              "    }\n",
              "\n",
              "    .colab-df-convert:hover {\n",
              "      background-color: #E2EBFA;\n",
              "      box-shadow: 0px 1px 2px rgba(60, 64, 67, 0.3), 0px 1px 3px 1px rgba(60, 64, 67, 0.15);\n",
              "      fill: #174EA6;\n",
              "    }\n",
              "\n",
              "    [theme=dark] .colab-df-convert {\n",
              "      background-color: #3B4455;\n",
              "      fill: #D2E3FC;\n",
              "    }\n",
              "\n",
              "    [theme=dark] .colab-df-convert:hover {\n",
              "      background-color: #434B5C;\n",
              "      box-shadow: 0px 1px 3px 1px rgba(0, 0, 0, 0.15);\n",
              "      filter: drop-shadow(0px 1px 2px rgba(0, 0, 0, 0.3));\n",
              "      fill: #FFFFFF;\n",
              "    }\n",
              "  </style>\n",
              "\n",
              "      <script>\n",
              "        const buttonEl =\n",
              "          document.querySelector('#df-475fb1cc-3b37-4fd8-94db-ca4bcbe6d9cc button.colab-df-convert');\n",
              "        buttonEl.style.display =\n",
              "          google.colab.kernel.accessAllowed ? 'block' : 'none';\n",
              "\n",
              "        async function convertToInteractive(key) {\n",
              "          const element = document.querySelector('#df-475fb1cc-3b37-4fd8-94db-ca4bcbe6d9cc');\n",
              "          const dataTable =\n",
              "            await google.colab.kernel.invokeFunction('convertToInteractive',\n",
              "                                                     [key], {});\n",
              "          if (!dataTable) return;\n",
              "\n",
              "          const docLinkHtml = 'Like what you see? Visit the ' +\n",
              "            '<a target=\"_blank\" href=https://colab.research.google.com/notebooks/data_table.ipynb>data table notebook</a>'\n",
              "            + ' to learn more about interactive tables.';\n",
              "          element.innerHTML = '';\n",
              "          dataTable['output_type'] = 'display_data';\n",
              "          await google.colab.output.renderOutput(dataTable, element);\n",
              "          const docLink = document.createElement('div');\n",
              "          docLink.innerHTML = docLinkHtml;\n",
              "          element.appendChild(docLink);\n",
              "        }\n",
              "      </script>\n",
              "    </div>\n",
              "  </div>\n",
              "  "
            ]
          },
          "metadata": {},
          "execution_count": 3
        }
      ],
      "source": [
        "df.head()"
      ]
    },
    {
      "cell_type": "code",
      "execution_count": 4,
      "id": "indirect-batman",
      "metadata": {
        "id": "indirect-batman"
      },
      "outputs": [],
      "source": [
        "### Divide the dataset into independent and dependent dataset\n",
        "y=df['tip']\n",
        "X=df[df.columns.difference(['tip'])]"
      ]
    },
    {
      "cell_type": "code",
      "execution_count": null,
      "id": "israeli-saskatchewan",
      "metadata": {
        "id": "israeli-saskatchewan",
        "outputId": "2507fc7a-2554-4d19-c407-ef4b081c1547"
      },
      "outputs": [
        {
          "data": {
            "text/html": [
              "<div>\n",
              "<style scoped>\n",
              "    .dataframe tbody tr th:only-of-type {\n",
              "        vertical-align: middle;\n",
              "    }\n",
              "\n",
              "    .dataframe tbody tr th {\n",
              "        vertical-align: top;\n",
              "    }\n",
              "\n",
              "    .dataframe thead th {\n",
              "        text-align: right;\n",
              "    }\n",
              "</style>\n",
              "<table border=\"1\" class=\"dataframe\">\n",
              "  <thead>\n",
              "    <tr style=\"text-align: right;\">\n",
              "      <th></th>\n",
              "      <th>day</th>\n",
              "      <th>sex</th>\n",
              "      <th>size</th>\n",
              "      <th>smoker</th>\n",
              "      <th>time</th>\n",
              "      <th>total_bill</th>\n",
              "    </tr>\n",
              "  </thead>\n",
              "  <tbody>\n",
              "    <tr>\n",
              "      <th>0</th>\n",
              "      <td>Sun</td>\n",
              "      <td>Female</td>\n",
              "      <td>2</td>\n",
              "      <td>No</td>\n",
              "      <td>Dinner</td>\n",
              "      <td>16.99</td>\n",
              "    </tr>\n",
              "    <tr>\n",
              "      <th>1</th>\n",
              "      <td>Sun</td>\n",
              "      <td>Male</td>\n",
              "      <td>3</td>\n",
              "      <td>No</td>\n",
              "      <td>Dinner</td>\n",
              "      <td>10.34</td>\n",
              "    </tr>\n",
              "    <tr>\n",
              "      <th>2</th>\n",
              "      <td>Sun</td>\n",
              "      <td>Male</td>\n",
              "      <td>3</td>\n",
              "      <td>No</td>\n",
              "      <td>Dinner</td>\n",
              "      <td>21.01</td>\n",
              "    </tr>\n",
              "    <tr>\n",
              "      <th>3</th>\n",
              "      <td>Sun</td>\n",
              "      <td>Male</td>\n",
              "      <td>2</td>\n",
              "      <td>No</td>\n",
              "      <td>Dinner</td>\n",
              "      <td>23.68</td>\n",
              "    </tr>\n",
              "    <tr>\n",
              "      <th>4</th>\n",
              "      <td>Sun</td>\n",
              "      <td>Female</td>\n",
              "      <td>4</td>\n",
              "      <td>No</td>\n",
              "      <td>Dinner</td>\n",
              "      <td>24.59</td>\n",
              "    </tr>\n",
              "  </tbody>\n",
              "</table>\n",
              "</div>"
            ],
            "text/plain": [
              "   day     sex  size smoker    time  total_bill\n",
              "0  Sun  Female     2     No  Dinner       16.99\n",
              "1  Sun    Male     3     No  Dinner       10.34\n",
              "2  Sun    Male     3     No  Dinner       21.01\n",
              "3  Sun    Male     2     No  Dinner       23.68\n",
              "4  Sun  Female     4     No  Dinner       24.59"
            ]
          },
          "execution_count": 5,
          "metadata": {},
          "output_type": "execute_result"
        }
      ],
      "source": [
        "X.head()"
      ]
    },
    {
      "cell_type": "code",
      "execution_count": null,
      "id": "a2cef269",
      "metadata": {
        "id": "a2cef269",
        "outputId": "2e845642-c1e8-47a1-e564-70d50722463b"
      },
      "outputs": [
        {
          "data": {
            "text/plain": [
              "0      1.01\n",
              "1      1.66\n",
              "2      3.50\n",
              "3      3.31\n",
              "4      3.61\n",
              "       ... \n",
              "239    5.92\n",
              "240    2.00\n",
              "241    2.00\n",
              "242    1.75\n",
              "243    3.00\n",
              "Name: tip, Length: 244, dtype: float64"
            ]
          },
          "execution_count": 6,
          "metadata": {},
          "output_type": "execute_result"
        }
      ],
      "source": [
        "y"
      ]
    },
    {
      "cell_type": "code",
      "execution_count": null,
      "id": "returning-lafayette",
      "metadata": {
        "id": "returning-lafayette",
        "outputId": "dce92d21-a858-4061-fb6a-7d7e73f49b7a"
      },
      "outputs": [
        {
          "name": "stdout",
          "output_type": "stream",
          "text": [
            "<class 'pandas.core.frame.DataFrame'>\n",
            "RangeIndex: 244 entries, 0 to 243\n",
            "Data columns (total 7 columns):\n",
            " #   Column      Non-Null Count  Dtype   \n",
            "---  ------      --------------  -----   \n",
            " 0   total_bill  244 non-null    float64 \n",
            " 1   tip         244 non-null    float64 \n",
            " 2   sex         244 non-null    category\n",
            " 3   smoker      244 non-null    category\n",
            " 4   day         244 non-null    category\n",
            " 5   time        244 non-null    category\n",
            " 6   size        244 non-null    int64   \n",
            "dtypes: category(4), float64(2), int64(1)\n",
            "memory usage: 7.4 KB\n"
          ]
        }
      ],
      "source": [
        "df.info()"
      ]
    },
    {
      "cell_type": "code",
      "execution_count": null,
      "id": "615c9500",
      "metadata": {
        "id": "615c9500",
        "outputId": "f01af83b-d95b-49cb-f9d5-c1b64a77bed4"
      },
      "outputs": [
        {
          "data": {
            "text/plain": [
              "0       Sun\n",
              "1       Sun\n",
              "2       Sun\n",
              "3       Sun\n",
              "4       Sun\n",
              "       ... \n",
              "239     Sat\n",
              "240     Sat\n",
              "241     Sat\n",
              "242     Sat\n",
              "243    Thur\n",
              "Name: day, Length: 244, dtype: category\n",
              "Categories (4, object): ['Thur', 'Fri', 'Sat', 'Sun']"
            ]
          },
          "execution_count": 8,
          "metadata": {},
          "output_type": "execute_result"
        }
      ],
      "source": [
        "X['day']"
      ]
    },
    {
      "cell_type": "code",
      "execution_count": null,
      "id": "a3f1257e",
      "metadata": {
        "id": "a3f1257e",
        "outputId": "2628590f-0158-42ed-de0e-30ac65618b63"
      },
      "outputs": [
        {
          "data": {
            "text/plain": [
              "0      3\n",
              "1      3\n",
              "2      3\n",
              "3      3\n",
              "4      3\n",
              "      ..\n",
              "239    2\n",
              "240    2\n",
              "241    2\n",
              "242    2\n",
              "243    0\n",
              "Length: 244, dtype: int8"
            ]
          },
          "execution_count": 9,
          "metadata": {},
          "output_type": "execute_result"
        }
      ],
      "source": [
        "X['day'].cat.codes"
      ]
    },
    {
      "cell_type": "code",
      "execution_count": 5,
      "id": "lonely-equivalent",
      "metadata": {
        "id": "lonely-equivalent"
      },
      "outputs": [],
      "source": [
        "X['day']=X['day'].cat.codes\n",
        "X['sex']=X['sex'].cat.codes\n",
        "X['smoker']=X['smoker'].cat.codes\n",
        "X['time']=X['time'].cat.codes"
      ]
    },
    {
      "cell_type": "code",
      "execution_count": null,
      "id": "expressed-cartridge",
      "metadata": {
        "id": "expressed-cartridge",
        "outputId": "99ee3860-719a-4233-92e5-af6becb4626b"
      },
      "outputs": [
        {
          "data": {
            "text/html": [
              "<div>\n",
              "<style scoped>\n",
              "    .dataframe tbody tr th:only-of-type {\n",
              "        vertical-align: middle;\n",
              "    }\n",
              "\n",
              "    .dataframe tbody tr th {\n",
              "        vertical-align: top;\n",
              "    }\n",
              "\n",
              "    .dataframe thead th {\n",
              "        text-align: right;\n",
              "    }\n",
              "</style>\n",
              "<table border=\"1\" class=\"dataframe\">\n",
              "  <thead>\n",
              "    <tr style=\"text-align: right;\">\n",
              "      <th></th>\n",
              "      <th>day</th>\n",
              "      <th>sex</th>\n",
              "      <th>size</th>\n",
              "      <th>smoker</th>\n",
              "      <th>time</th>\n",
              "      <th>total_bill</th>\n",
              "    </tr>\n",
              "  </thead>\n",
              "  <tbody>\n",
              "    <tr>\n",
              "      <th>0</th>\n",
              "      <td>3</td>\n",
              "      <td>1</td>\n",
              "      <td>2</td>\n",
              "      <td>1</td>\n",
              "      <td>1</td>\n",
              "      <td>16.99</td>\n",
              "    </tr>\n",
              "    <tr>\n",
              "      <th>1</th>\n",
              "      <td>3</td>\n",
              "      <td>0</td>\n",
              "      <td>3</td>\n",
              "      <td>1</td>\n",
              "      <td>1</td>\n",
              "      <td>10.34</td>\n",
              "    </tr>\n",
              "    <tr>\n",
              "      <th>2</th>\n",
              "      <td>3</td>\n",
              "      <td>0</td>\n",
              "      <td>3</td>\n",
              "      <td>1</td>\n",
              "      <td>1</td>\n",
              "      <td>21.01</td>\n",
              "    </tr>\n",
              "    <tr>\n",
              "      <th>3</th>\n",
              "      <td>3</td>\n",
              "      <td>0</td>\n",
              "      <td>2</td>\n",
              "      <td>1</td>\n",
              "      <td>1</td>\n",
              "      <td>23.68</td>\n",
              "    </tr>\n",
              "    <tr>\n",
              "      <th>4</th>\n",
              "      <td>3</td>\n",
              "      <td>1</td>\n",
              "      <td>4</td>\n",
              "      <td>1</td>\n",
              "      <td>1</td>\n",
              "      <td>24.59</td>\n",
              "    </tr>\n",
              "    <tr>\n",
              "      <th>...</th>\n",
              "      <td>...</td>\n",
              "      <td>...</td>\n",
              "      <td>...</td>\n",
              "      <td>...</td>\n",
              "      <td>...</td>\n",
              "      <td>...</td>\n",
              "    </tr>\n",
              "    <tr>\n",
              "      <th>239</th>\n",
              "      <td>2</td>\n",
              "      <td>0</td>\n",
              "      <td>3</td>\n",
              "      <td>1</td>\n",
              "      <td>1</td>\n",
              "      <td>29.03</td>\n",
              "    </tr>\n",
              "    <tr>\n",
              "      <th>240</th>\n",
              "      <td>2</td>\n",
              "      <td>1</td>\n",
              "      <td>2</td>\n",
              "      <td>0</td>\n",
              "      <td>1</td>\n",
              "      <td>27.18</td>\n",
              "    </tr>\n",
              "    <tr>\n",
              "      <th>241</th>\n",
              "      <td>2</td>\n",
              "      <td>0</td>\n",
              "      <td>2</td>\n",
              "      <td>0</td>\n",
              "      <td>1</td>\n",
              "      <td>22.67</td>\n",
              "    </tr>\n",
              "    <tr>\n",
              "      <th>242</th>\n",
              "      <td>2</td>\n",
              "      <td>0</td>\n",
              "      <td>2</td>\n",
              "      <td>1</td>\n",
              "      <td>1</td>\n",
              "      <td>17.82</td>\n",
              "    </tr>\n",
              "    <tr>\n",
              "      <th>243</th>\n",
              "      <td>0</td>\n",
              "      <td>1</td>\n",
              "      <td>2</td>\n",
              "      <td>1</td>\n",
              "      <td>1</td>\n",
              "      <td>18.78</td>\n",
              "    </tr>\n",
              "  </tbody>\n",
              "</table>\n",
              "<p>244 rows × 6 columns</p>\n",
              "</div>"
            ],
            "text/plain": [
              "     day  sex  size  smoker  time  total_bill\n",
              "0      3    1     2       1     1       16.99\n",
              "1      3    0     3       1     1       10.34\n",
              "2      3    0     3       1     1       21.01\n",
              "3      3    0     2       1     1       23.68\n",
              "4      3    1     4       1     1       24.59\n",
              "..   ...  ...   ...     ...   ...         ...\n",
              "239    2    0     3       1     1       29.03\n",
              "240    2    1     2       0     1       27.18\n",
              "241    2    0     2       0     1       22.67\n",
              "242    2    0     2       1     1       17.82\n",
              "243    0    1     2       1     1       18.78\n",
              "\n",
              "[244 rows x 6 columns]"
            ]
          },
          "execution_count": 11,
          "metadata": {},
          "output_type": "execute_result"
        }
      ],
      "source": [
        "X"
      ]
    },
    {
      "cell_type": "code",
      "execution_count": 6,
      "id": "geographic-royalty",
      "metadata": {
        "id": "geographic-royalty"
      },
      "outputs": [],
      "source": [
        "### Train Test split\n",
        "from sklearn.model_selection import train_test_split\n",
        "X_train,X_test,y_train,y_test=train_test_split(X,y,train_size=0.75,random_state=1)"
      ]
    },
    {
      "cell_type": "code",
      "execution_count": 7,
      "id": "nonprofit-petite",
      "metadata": {
        "id": "nonprofit-petite"
      },
      "outputs": [],
      "source": [
        "from sklearn.ensemble import RandomForestRegressor\n",
        "regressor = RandomForestRegressor(n_estimators=200).fit(X_train,y_train)"
      ]
    },
    {
      "cell_type": "markdown",
      "id": "three-corporation",
      "metadata": {
        "id": "three-corporation"
      },
      "source": [
        "#### Lets Understand Our Model With Shapash \n",
        "In this section, we use the SmartExplainer Object from shapash.\n",
        "\n",
        "- It allows users to understand how the model works with the specified data.\n",
        "- This object must be used only for data mining step. Shapash provides another object for deployment.\n"
      ]
    },
    {
      "cell_type": "code",
      "execution_count": 8,
      "id": "78a12399",
      "metadata": {
        "colab": {
          "base_uri": "https://localhost:8080/",
          "height": 1000
        },
        "id": "78a12399",
        "outputId": "34a4fcb4-81a7-4618-99fa-730b7b88faff"
      },
      "outputs": [
        {
          "output_type": "stream",
          "name": "stdout",
          "text": [
            "Looking in indexes: https://pypi.org/simple, https://us-python.pkg.dev/colab-wheels/public/simple/\n",
            "Collecting shapash\n",
            "  Downloading shapash-2.0.2-py2.py3-none-any.whl (902 kB)\n",
            "\u001b[K     |████████████████████████████████| 902 kB 5.1 MB/s \n",
            "\u001b[?25hRequirement already satisfied: nbformat>4.2.0 in /usr/local/lib/python3.7/dist-packages (from shapash) (5.4.0)\n",
            "Collecting dash>=2.3.1\n",
            "  Downloading dash-2.6.1-py3-none-any.whl (9.9 MB)\n",
            "\u001b[K     |████████████████████████████████| 9.9 MB 47.5 MB/s \n",
            "\u001b[?25hRequirement already satisfied: pandas>1.0.2 in /usr/local/lib/python3.7/dist-packages (from shapash) (1.3.5)\n",
            "Requirement already satisfied: matplotlib>=3.2.0 in /usr/local/lib/python3.7/dist-packages (from shapash) (3.2.2)\n",
            "Collecting dash-daq>=0.5.0\n",
            "  Downloading dash_daq-0.5.0.tar.gz (642 kB)\n",
            "\u001b[K     |████████████████████████████████| 642 kB 50.2 MB/s \n",
            "\u001b[?25hCollecting dash-renderer==1.8.3\n",
            "  Downloading dash_renderer-1.8.3.tar.gz (1.0 MB)\n",
            "\u001b[K     |████████████████████████████████| 1.0 MB 53.8 MB/s \n",
            "\u001b[?25hCollecting shap>=0.38.1\n",
            "  Downloading shap-0.41.0-cp37-cp37m-manylinux_2_12_x86_64.manylinux2010_x86_64.whl (569 kB)\n",
            "\u001b[K     |████████████████████████████████| 569 kB 60.6 MB/s \n",
            "\u001b[?25hCollecting scikit-learn<=0.24.2,>=0.24.0\n",
            "  Downloading scikit_learn-0.24.2-cp37-cp37m-manylinux2010_x86_64.whl (22.3 MB)\n",
            "\u001b[K     |████████████████████████████████| 22.3 MB 5.4 MB/s \n",
            "\u001b[?25hCollecting dash-html-components>=2.0.0\n",
            "  Downloading dash_html_components-2.0.0-py3-none-any.whl (4.1 kB)\n",
            "Requirement already satisfied: numpy>1.18.0 in /usr/local/lib/python3.7/dist-packages (from shapash) (1.21.6)\n",
            "Collecting dash-table>=5.0.0\n",
            "  Downloading dash_table-5.0.0-py3-none-any.whl (3.9 kB)\n",
            "Collecting dash-core-components>=2.0.0\n",
            "  Downloading dash_core_components-2.0.0-py3-none-any.whl (3.8 kB)\n",
            "Requirement already satisfied: numba>=0.53.1 in /usr/local/lib/python3.7/dist-packages (from shapash) (0.56.0)\n",
            "Requirement already satisfied: plotly>=5.0.0 in /usr/local/lib/python3.7/dist-packages (from shapash) (5.5.0)\n",
            "Collecting dash-bootstrap-components>=1.1.0\n",
            "  Downloading dash_bootstrap_components-1.2.1-py3-none-any.whl (216 kB)\n",
            "\u001b[K     |████████████████████████████████| 216 kB 56.2 MB/s \n",
            "\u001b[?25hRequirement already satisfied: Flask>=1.0.4 in /usr/local/lib/python3.7/dist-packages (from dash>=2.3.1->shapash) (1.1.4)\n",
            "Collecting flask-compress\n",
            "  Downloading Flask_Compress-1.12-py3-none-any.whl (7.9 kB)\n",
            "Requirement already satisfied: Jinja2<3.0,>=2.10.1 in /usr/local/lib/python3.7/dist-packages (from Flask>=1.0.4->dash>=2.3.1->shapash) (2.11.3)\n",
            "Requirement already satisfied: itsdangerous<2.0,>=0.24 in /usr/local/lib/python3.7/dist-packages (from Flask>=1.0.4->dash>=2.3.1->shapash) (1.1.0)\n",
            "Requirement already satisfied: click<8.0,>=5.1 in /usr/local/lib/python3.7/dist-packages (from Flask>=1.0.4->dash>=2.3.1->shapash) (7.1.2)\n",
            "Requirement already satisfied: Werkzeug<2.0,>=0.15 in /usr/local/lib/python3.7/dist-packages (from Flask>=1.0.4->dash>=2.3.1->shapash) (1.0.1)\n",
            "Requirement already satisfied: MarkupSafe>=0.23 in /usr/local/lib/python3.7/dist-packages (from Jinja2<3.0,>=2.10.1->Flask>=1.0.4->dash>=2.3.1->shapash) (2.0.1)\n",
            "Requirement already satisfied: python-dateutil>=2.1 in /usr/local/lib/python3.7/dist-packages (from matplotlib>=3.2.0->shapash) (2.8.2)\n",
            "Requirement already satisfied: kiwisolver>=1.0.1 in /usr/local/lib/python3.7/dist-packages (from matplotlib>=3.2.0->shapash) (1.4.4)\n",
            "Requirement already satisfied: cycler>=0.10 in /usr/local/lib/python3.7/dist-packages (from matplotlib>=3.2.0->shapash) (0.11.0)\n",
            "Requirement already satisfied: pyparsing!=2.0.4,!=2.1.2,!=2.1.6,>=2.0.1 in /usr/local/lib/python3.7/dist-packages (from matplotlib>=3.2.0->shapash) (3.0.9)\n",
            "Requirement already satisfied: typing-extensions in /usr/local/lib/python3.7/dist-packages (from kiwisolver>=1.0.1->matplotlib>=3.2.0->shapash) (4.1.1)\n",
            "Requirement already satisfied: fastjsonschema in /usr/local/lib/python3.7/dist-packages (from nbformat>4.2.0->shapash) (2.16.1)\n",
            "Requirement already satisfied: jsonschema>=2.6 in /usr/local/lib/python3.7/dist-packages (from nbformat>4.2.0->shapash) (4.3.3)\n",
            "Requirement already satisfied: traitlets>=5.1 in /usr/local/lib/python3.7/dist-packages (from nbformat>4.2.0->shapash) (5.1.1)\n",
            "Requirement already satisfied: jupyter-core in /usr/local/lib/python3.7/dist-packages (from nbformat>4.2.0->shapash) (4.11.1)\n",
            "Requirement already satisfied: pyrsistent!=0.17.0,!=0.17.1,!=0.17.2,>=0.14.0 in /usr/local/lib/python3.7/dist-packages (from jsonschema>=2.6->nbformat>4.2.0->shapash) (0.18.1)\n",
            "Requirement already satisfied: importlib-resources>=1.4.0 in /usr/local/lib/python3.7/dist-packages (from jsonschema>=2.6->nbformat>4.2.0->shapash) (5.9.0)\n",
            "Requirement already satisfied: attrs>=17.4.0 in /usr/local/lib/python3.7/dist-packages (from jsonschema>=2.6->nbformat>4.2.0->shapash) (22.1.0)\n",
            "Requirement already satisfied: importlib-metadata in /usr/local/lib/python3.7/dist-packages (from jsonschema>=2.6->nbformat>4.2.0->shapash) (4.12.0)\n",
            "Requirement already satisfied: zipp>=3.1.0 in /usr/local/lib/python3.7/dist-packages (from importlib-resources>=1.4.0->jsonschema>=2.6->nbformat>4.2.0->shapash) (3.8.1)\n",
            "Requirement already satisfied: llvmlite<0.40,>=0.39.0dev0 in /usr/local/lib/python3.7/dist-packages (from numba>=0.53.1->shapash) (0.39.0)\n",
            "Requirement already satisfied: setuptools in /usr/local/lib/python3.7/dist-packages (from numba>=0.53.1->shapash) (57.4.0)\n",
            "Requirement already satisfied: pytz>=2017.3 in /usr/local/lib/python3.7/dist-packages (from pandas>1.0.2->shapash) (2022.2.1)\n",
            "Requirement already satisfied: tenacity>=6.2.0 in /usr/local/lib/python3.7/dist-packages (from plotly>=5.0.0->shapash) (8.0.1)\n",
            "Requirement already satisfied: six in /usr/local/lib/python3.7/dist-packages (from plotly>=5.0.0->shapash) (1.15.0)\n",
            "Requirement already satisfied: scipy>=0.19.1 in /usr/local/lib/python3.7/dist-packages (from scikit-learn<=0.24.2,>=0.24.0->shapash) (1.7.3)\n",
            "Requirement already satisfied: threadpoolctl>=2.0.0 in /usr/local/lib/python3.7/dist-packages (from scikit-learn<=0.24.2,>=0.24.0->shapash) (3.1.0)\n",
            "Requirement already satisfied: joblib>=0.11 in /usr/local/lib/python3.7/dist-packages (from scikit-learn<=0.24.2,>=0.24.0->shapash) (1.1.0)\n",
            "Requirement already satisfied: tqdm>4.25.0 in /usr/local/lib/python3.7/dist-packages (from shap>=0.38.1->shapash) (4.64.0)\n",
            "Requirement already satisfied: cloudpickle in /usr/local/lib/python3.7/dist-packages (from shap>=0.38.1->shapash) (1.5.0)\n",
            "Collecting slicer==0.0.7\n",
            "  Downloading slicer-0.0.7-py3-none-any.whl (14 kB)\n",
            "Requirement already satisfied: packaging>20.9 in /usr/local/lib/python3.7/dist-packages (from shap>=0.38.1->shapash) (21.3)\n",
            "Collecting brotli\n",
            "  Downloading Brotli-1.0.9-cp37-cp37m-manylinux1_x86_64.whl (357 kB)\n",
            "\u001b[K     |████████████████████████████████| 357 kB 58.9 MB/s \n",
            "\u001b[?25hBuilding wheels for collected packages: dash-renderer, dash-daq\n",
            "  Building wheel for dash-renderer (setup.py) ... \u001b[?25l\u001b[?25hdone\n",
            "  Created wheel for dash-renderer: filename=dash_renderer-1.8.3-py3-none-any.whl size=1013944 sha256=f0601d9b28dff85f600098f1539caa2c5ced90002618574e168d0c3eef826891\n",
            "  Stored in directory: /root/.cache/pip/wheels/71/17/b0/8bebc086e55a01cf4036902b6ca05fce3fb4c7fd48dbd07717\n",
            "  Building wheel for dash-daq (setup.py) ... \u001b[?25l\u001b[?25hdone\n",
            "  Created wheel for dash-daq: filename=dash_daq-0.5.0-py3-none-any.whl size=669714 sha256=536164cc63a4753cc8d6d7dc1a91807164b0505852db019160b08998fc6f83ac\n",
            "  Stored in directory: /root/.cache/pip/wheels/fe/54/53/a8d448db5592874db4313240571ca2c069e55f6a6b29bf5847\n",
            "Successfully built dash-renderer dash-daq\n",
            "Installing collected packages: brotli, flask-compress, dash-table, dash-html-components, dash-core-components, slicer, scikit-learn, dash, shap, dash-renderer, dash-daq, dash-bootstrap-components, shapash\n",
            "  Attempting uninstall: scikit-learn\n",
            "    Found existing installation: scikit-learn 1.0.2\n",
            "    Uninstalling scikit-learn-1.0.2:\n",
            "      Successfully uninstalled scikit-learn-1.0.2\n",
            "\u001b[31mERROR: pip's dependency resolver does not currently take into account all the packages that are installed. This behaviour is the source of the following dependency conflicts.\n",
            "yellowbrick 1.5 requires scikit-learn>=1.0.0, but you have scikit-learn 0.24.2 which is incompatible.\u001b[0m\n",
            "Successfully installed brotli-1.0.9 dash-2.6.1 dash-bootstrap-components-1.2.1 dash-core-components-2.0.0 dash-daq-0.5.0 dash-html-components-2.0.0 dash-renderer-1.8.3 dash-table-5.0.0 flask-compress-1.12 scikit-learn-0.24.2 shap-0.41.0 shapash-2.0.2 slicer-0.0.7\n"
          ]
        },
        {
          "output_type": "display_data",
          "data": {
            "application/vnd.colab-display-data+json": {
              "pip_warning": {
                "packages": [
                  "sklearn"
                ]
              }
            }
          },
          "metadata": {}
        }
      ],
      "source": [
        "#!pip install shapash"
      ]
    },
    {
      "cell_type": "code",
      "execution_count": 17,
      "id": "played-audit",
      "metadata": {
        "id": "played-audit"
      },
      "outputs": [],
      "source": [
        "from shapash.explainer.smart_explainer import SmartExplainer"
      ]
    },
    {
      "cell_type": "code",
      "execution_count": 18,
      "id": "powerful-dependence",
      "metadata": {
        "id": "powerful-dependence"
      },
      "outputs": [],
      "source": [
        "xpl = SmartExplainer(model=regressor)"
      ]
    },
    {
      "cell_type": "code",
      "execution_count": 19,
      "id": "improved-personal",
      "metadata": {
        "id": "improved-personal"
      },
      "outputs": [],
      "source": [
        "xpl.compile(\n",
        "    x=X_test\n",
        ")"
      ]
    },
    {
      "cell_type": "code",
      "execution_count": 20,
      "id": "civic-magnet",
      "metadata": {
        "colab": {
          "base_uri": "https://localhost:8080/"
        },
        "id": "civic-magnet",
        "outputId": "9a8b76fe-263b-4665-ee61-8bbd961e3341"
      },
      "outputs": [
        {
          "output_type": "execute_result",
          "data": {
            "text/plain": [
              "<shapash.explainer.smart_explainer.SmartExplainer at 0x7f01bdb9a290>"
            ]
          },
          "metadata": {},
          "execution_count": 20
        }
      ],
      "source": [
        "xpl"
      ]
    },
    {
      "cell_type": "code",
      "source": [],
      "metadata": {
        "id": "oxnLfqnExv12"
      },
      "id": "oxnLfqnExv12",
      "execution_count": null,
      "outputs": []
    },
    {
      "cell_type": "markdown",
      "id": "facial-interstate",
      "metadata": {
        "id": "facial-interstate"
      },
      "source": [
        "#### Lets Understand the results of your trained model\n",
        "Then, we can easily get a first summary of the explanation of the model results.\n",
        "\n",
        "- Here, we chose to get the 3 most contributive features for each prediction.\n",
        "- We used a wording to get features names more understandable in operationnal case."
      ]
    },
    {
      "cell_type": "code",
      "execution_count": 21,
      "id": "august-contributor",
      "metadata": {
        "colab": {
          "base_uri": "https://localhost:8080/"
        },
        "id": "august-contributor",
        "outputId": "067bad76-b933-4a87-b9ac-4ebe6e003c94"
      },
      "outputs": [
        {
          "output_type": "stream",
          "name": "stdout",
          "text": [
            "Dash is running on http://0.0.0.0:8050/\n",
            "\n",
            "Dash is running on http://0.0.0.0:8050/\n",
            "\n"
          ]
        },
        {
          "output_type": "stream",
          "name": "stderr",
          "text": [
            "INFO:shapash.webapp.smart_app:Dash is running on http://0.0.0.0:8050/\n",
            "\n"
          ]
        },
        {
          "output_type": "stream",
          "name": "stdout",
          "text": [
            " * Serving Flask app \"shapash.webapp.smart_app\" (lazy loading)\n",
            " * Environment: production\n",
            "\u001b[31m   WARNING: This is a development server. Do not use it in a production deployment.\u001b[0m\n",
            "\u001b[2m   Use a production WSGI server instead.\u001b[0m\n",
            " * Debug mode: off\n"
          ]
        }
      ],
      "source": [
        "app = xpl.run_app(title_story='Tips Dataset')"
      ]
    },
    {
      "cell_type": "code",
      "execution_count": 14,
      "id": "marked-avatar",
      "metadata": {
        "id": "marked-avatar"
      },
      "outputs": [],
      "source": [
        "predictor = xpl.to_smartpredictor()"
      ]
    },
    {
      "cell_type": "code",
      "execution_count": 15,
      "id": "divided-artist",
      "metadata": {
        "id": "divided-artist"
      },
      "outputs": [],
      "source": [
        "predictor.save('./predictor.pkl')"
      ]
    },
    {
      "cell_type": "code",
      "execution_count": 16,
      "id": "antique-context",
      "metadata": {
        "id": "antique-context"
      },
      "outputs": [],
      "source": [
        "from shapash.utils.load_smartpredictor import load_smartpredictor\n",
        "predictor_load = load_smartpredictor('./predictor.pkl')"
      ]
    },
    {
      "cell_type": "markdown",
      "id": "electric-vocabulary",
      "metadata": {
        "id": "electric-vocabulary"
      },
      "source": [
        "#### Make a prediction with your SmartPredictor\n",
        "In order to make new predictions and summarize local explainability of your model on new datasets, you can use the method add_input of the SmartPredictor.\n",
        "\n",
        "- The add_input method is the first step to add a dataset for prediction and explainability.\n",
        "- It checks the structure of the dataset, the prediction and the contribution if specified.\n",
        "- It applies the preprocessing specified in the initialisation and reorder the features with the order used by the model. (see the documentation of this method)\n",
        "- In API mode, this method can handle dictionnaries data which can be received from a GET or a POST request.\n",
        "- Add data\n",
        "- The x input in add_input method doesn't have to be encoded, add_input applies preprocessing."
      ]
    },
    {
      "cell_type": "code",
      "execution_count": null,
      "id": "electronic-tattoo",
      "metadata": {
        "id": "electronic-tattoo"
      },
      "outputs": [],
      "source": [
        "predictor_load.add_input(x=X, ypred=y)"
      ]
    },
    {
      "cell_type": "code",
      "execution_count": null,
      "id": "developmental-consistency",
      "metadata": {
        "id": "developmental-consistency"
      },
      "outputs": [],
      "source": [
        "detailed_contributions = predictor_load.detail_contributions()\n"
      ]
    },
    {
      "cell_type": "code",
      "execution_count": null,
      "id": "lesser-consensus",
      "metadata": {
        "id": "lesser-consensus",
        "outputId": "b388717a-3b5c-4071-df0b-edaf570f489b"
      },
      "outputs": [
        {
          "data": {
            "text/html": [
              "<div>\n",
              "<style scoped>\n",
              "    .dataframe tbody tr th:only-of-type {\n",
              "        vertical-align: middle;\n",
              "    }\n",
              "\n",
              "    .dataframe tbody tr th {\n",
              "        vertical-align: top;\n",
              "    }\n",
              "\n",
              "    .dataframe thead th {\n",
              "        text-align: right;\n",
              "    }\n",
              "</style>\n",
              "<table border=\"1\" class=\"dataframe\">\n",
              "  <thead>\n",
              "    <tr style=\"text-align: right;\">\n",
              "      <th></th>\n",
              "      <th>tip</th>\n",
              "      <th>day</th>\n",
              "      <th>sex</th>\n",
              "      <th>size</th>\n",
              "      <th>smoker</th>\n",
              "      <th>time</th>\n",
              "      <th>total_bill</th>\n",
              "    </tr>\n",
              "  </thead>\n",
              "  <tbody>\n",
              "    <tr>\n",
              "      <th>0</th>\n",
              "      <td>1.01</td>\n",
              "      <td>0.061577</td>\n",
              "      <td>0.106799</td>\n",
              "      <td>-0.023806</td>\n",
              "      <td>-0.034002</td>\n",
              "      <td>-0.005614</td>\n",
              "      <td>0.190548</td>\n",
              "    </tr>\n",
              "    <tr>\n",
              "      <th>1</th>\n",
              "      <td>1.66</td>\n",
              "      <td>0.090254</td>\n",
              "      <td>-0.055215</td>\n",
              "      <td>-0.010680</td>\n",
              "      <td>-0.069898</td>\n",
              "      <td>-0.018349</td>\n",
              "      <td>-1.212958</td>\n",
              "    </tr>\n",
              "    <tr>\n",
              "      <th>2</th>\n",
              "      <td>3.50</td>\n",
              "      <td>0.088065</td>\n",
              "      <td>-0.023910</td>\n",
              "      <td>0.002713</td>\n",
              "      <td>-0.004694</td>\n",
              "      <td>0.007560</td>\n",
              "      <td>0.470718</td>\n",
              "    </tr>\n",
              "    <tr>\n",
              "      <th>3</th>\n",
              "      <td>3.31</td>\n",
              "      <td>0.132209</td>\n",
              "      <td>-0.023233</td>\n",
              "      <td>-0.042330</td>\n",
              "      <td>0.015416</td>\n",
              "      <td>0.004982</td>\n",
              "      <td>0.112857</td>\n",
              "    </tr>\n",
              "    <tr>\n",
              "      <th>4</th>\n",
              "      <td>3.61</td>\n",
              "      <td>0.060763</td>\n",
              "      <td>0.059497</td>\n",
              "      <td>-0.010469</td>\n",
              "      <td>0.002614</td>\n",
              "      <td>-0.010926</td>\n",
              "      <td>-0.320577</td>\n",
              "    </tr>\n",
              "  </tbody>\n",
              "</table>\n",
              "</div>"
            ],
            "text/plain": [
              "    tip       day       sex      size    smoker      time  total_bill\n",
              "0  1.01  0.061577  0.106799 -0.023806 -0.034002 -0.005614    0.190548\n",
              "1  1.66  0.090254 -0.055215 -0.010680 -0.069898 -0.018349   -1.212958\n",
              "2  3.50  0.088065 -0.023910  0.002713 -0.004694  0.007560    0.470718\n",
              "3  3.31  0.132209 -0.023233 -0.042330  0.015416  0.004982    0.112857\n",
              "4  3.61  0.060763  0.059497 -0.010469  0.002614 -0.010926   -0.320577"
            ]
          },
          "execution_count": 24,
          "metadata": {},
          "output_type": "execute_result"
        }
      ],
      "source": [
        "detailed_contributions.head()"
      ]
    },
    {
      "cell_type": "markdown",
      "id": "national-questionnaire",
      "metadata": {
        "id": "national-questionnaire"
      },
      "source": [
        "#### Summarize explanability of the predictions\n",
        "- You can use the summarize method to summarize your local explainability\n",
        "- This summary can be configured with modify_mask method so that you have explainability that meets your operational needs."
      ]
    },
    {
      "cell_type": "code",
      "execution_count": null,
      "id": "realistic-characteristic",
      "metadata": {
        "id": "realistic-characteristic"
      },
      "outputs": [],
      "source": [
        "\n",
        "predictor_load.modify_mask(max_contrib=3)"
      ]
    },
    {
      "cell_type": "code",
      "execution_count": null,
      "id": "embedded-bradley",
      "metadata": {
        "id": "embedded-bradley"
      },
      "outputs": [],
      "source": [
        "explanation = predictor_load.summarize()"
      ]
    },
    {
      "cell_type": "code",
      "execution_count": null,
      "id": "classical-fleece",
      "metadata": {
        "id": "classical-fleece",
        "outputId": "7ea71f8a-978d-43aa-c8a9-0fc03bdf0d15"
      },
      "outputs": [
        {
          "data": {
            "text/html": [
              "<div>\n",
              "<style scoped>\n",
              "    .dataframe tbody tr th:only-of-type {\n",
              "        vertical-align: middle;\n",
              "    }\n",
              "\n",
              "    .dataframe tbody tr th {\n",
              "        vertical-align: top;\n",
              "    }\n",
              "\n",
              "    .dataframe thead th {\n",
              "        text-align: right;\n",
              "    }\n",
              "</style>\n",
              "<table border=\"1\" class=\"dataframe\">\n",
              "  <thead>\n",
              "    <tr style=\"text-align: right;\">\n",
              "      <th></th>\n",
              "      <th>tip</th>\n",
              "      <th>feature_1</th>\n",
              "      <th>value_1</th>\n",
              "      <th>contribution_1</th>\n",
              "      <th>feature_2</th>\n",
              "      <th>value_2</th>\n",
              "      <th>contribution_2</th>\n",
              "      <th>feature_3</th>\n",
              "      <th>value_3</th>\n",
              "      <th>contribution_3</th>\n",
              "    </tr>\n",
              "  </thead>\n",
              "  <tbody>\n",
              "    <tr>\n",
              "      <th>0</th>\n",
              "      <td>1.01</td>\n",
              "      <td>total_bill</td>\n",
              "      <td>16.99</td>\n",
              "      <td>0.190548</td>\n",
              "      <td>sex</td>\n",
              "      <td>1</td>\n",
              "      <td>0.106799</td>\n",
              "      <td>day</td>\n",
              "      <td>3</td>\n",
              "      <td>0.0615766</td>\n",
              "    </tr>\n",
              "    <tr>\n",
              "      <th>1</th>\n",
              "      <td>1.66</td>\n",
              "      <td>total_bill</td>\n",
              "      <td>10.34</td>\n",
              "      <td>-1.21296</td>\n",
              "      <td>day</td>\n",
              "      <td>3</td>\n",
              "      <td>0.0902535</td>\n",
              "      <td>smoker</td>\n",
              "      <td>1</td>\n",
              "      <td>-0.0698982</td>\n",
              "    </tr>\n",
              "    <tr>\n",
              "      <th>2</th>\n",
              "      <td>3.50</td>\n",
              "      <td>total_bill</td>\n",
              "      <td>21.01</td>\n",
              "      <td>0.470718</td>\n",
              "      <td>day</td>\n",
              "      <td>3</td>\n",
              "      <td>0.0880646</td>\n",
              "      <td>sex</td>\n",
              "      <td>0</td>\n",
              "      <td>-0.0239099</td>\n",
              "    </tr>\n",
              "    <tr>\n",
              "      <th>3</th>\n",
              "      <td>3.31</td>\n",
              "      <td>day</td>\n",
              "      <td>3</td>\n",
              "      <td>0.132209</td>\n",
              "      <td>total_bill</td>\n",
              "      <td>23.68</td>\n",
              "      <td>0.112857</td>\n",
              "      <td>size</td>\n",
              "      <td>2</td>\n",
              "      <td>-0.0423296</td>\n",
              "    </tr>\n",
              "    <tr>\n",
              "      <th>4</th>\n",
              "      <td>3.61</td>\n",
              "      <td>total_bill</td>\n",
              "      <td>24.59</td>\n",
              "      <td>-0.320577</td>\n",
              "      <td>day</td>\n",
              "      <td>3</td>\n",
              "      <td>0.060763</td>\n",
              "      <td>sex</td>\n",
              "      <td>1</td>\n",
              "      <td>0.059497</td>\n",
              "    </tr>\n",
              "  </tbody>\n",
              "</table>\n",
              "</div>"
            ],
            "text/plain": [
              "    tip   feature_1 value_1 contribution_1   feature_2 value_2 contribution_2  \\\n",
              "0  1.01  total_bill   16.99       0.190548         sex       1       0.106799   \n",
              "1  1.66  total_bill   10.34       -1.21296         day       3      0.0902535   \n",
              "2  3.50  total_bill   21.01       0.470718         day       3      0.0880646   \n",
              "3  3.31         day       3       0.132209  total_bill   23.68       0.112857   \n",
              "4  3.61  total_bill   24.59      -0.320577         day       3       0.060763   \n",
              "\n",
              "  feature_3 value_3 contribution_3  \n",
              "0       day       3      0.0615766  \n",
              "1    smoker       1     -0.0698982  \n",
              "2       sex       0     -0.0239099  \n",
              "3      size       2     -0.0423296  \n",
              "4       sex       1       0.059497  "
            ]
          },
          "execution_count": 27,
          "metadata": {},
          "output_type": "execute_result"
        }
      ],
      "source": [
        "explanation.head()"
      ]
    },
    {
      "cell_type": "markdown",
      "id": "59c89ad9",
      "metadata": {
        "id": "59c89ad9"
      },
      "source": [
        "# Happy Learning"
      ]
    }
  ],
  "metadata": {
    "kernelspec": {
      "display_name": "Python 3 (ipykernel)",
      "language": "python",
      "name": "python3"
    },
    "language_info": {
      "codemirror_mode": {
        "name": "ipython",
        "version": 3
      },
      "file_extension": ".py",
      "mimetype": "text/x-python",
      "name": "python",
      "nbconvert_exporter": "python",
      "pygments_lexer": "ipython3",
      "version": "3.9.12"
    },
    "colab": {
      "provenance": [],
      "include_colab_link": true
    }
  },
  "nbformat": 4,
  "nbformat_minor": 5
}